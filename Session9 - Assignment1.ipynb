{
 "cells": [
  {
   "cell_type": "markdown",
   "metadata": {},
   "source": [
    "1) How-to-count-distance-to-the-previous-zero\n",
    "\n",
    "For each value, count the difference back to the previous zero (or the start of the Series, whichever is closer)\n",
    "create a new column 'Y'\n",
    "Consider a DataFrame df where there is an integer column 'X'\n",
    "import pandas as pd\n",
    "df = pd.DataFrame({'X': [7, 2, 0, 3, 4, 2, 5, 0, 3, 4]})\n",
    "2) Create a DatetimeIndex that contains each business day of 2015 and use it to index a\n",
    "Series of random numbers.\n",
    "3) Find the sum of the values in s for every Wednesday\n",
    "4) Average For each calendar month\n",
    "5) For each group of four consecutive calendar months in s, find the date on which the highest value occurred."
   ]
  },
  {
   "cell_type": "code",
   "execution_count": 5,
   "metadata": {},
   "outputs": [],
   "source": [
    "import numpy as np\n",
    "import pandas as pd\n",
    "import os\n",
    "import matplotlib.pyplot as plt"
   ]
  },
  {
   "cell_type": "code",
   "execution_count": null,
   "metadata": {},
   "outputs": [],
   "source": [
    "# 1) How-to-count-distance-to-the-previous-zero"
   ]
  },
  {
   "cell_type": "code",
   "execution_count": 20,
   "metadata": {},
   "outputs": [],
   "source": [
    "df = pd.DataFrame({'X' : [7, 2, 0, 3, 4, 2, 5, 0, 3, 4]})"
   ]
  },
  {
   "cell_type": "code",
   "execution_count": 21,
   "metadata": {},
   "outputs": [],
   "source": [
    "x = (df['X'] != 0).cumsum()\n",
    "y = x != x.shift()\n",
    "df['Y'] = y.groupby((y != y.shift()).cumsum()).cumsum()"
   ]
  },
  {
   "cell_type": "code",
   "execution_count": 22,
   "metadata": {},
   "outputs": [
    {
     "data": {
      "text/html": [
       "<div>\n",
       "<style scoped>\n",
       "    .dataframe tbody tr th:only-of-type {\n",
       "        vertical-align: middle;\n",
       "    }\n",
       "\n",
       "    .dataframe tbody tr th {\n",
       "        vertical-align: top;\n",
       "    }\n",
       "\n",
       "    .dataframe thead th {\n",
       "        text-align: right;\n",
       "    }\n",
       "</style>\n",
       "<table border=\"1\" class=\"dataframe\">\n",
       "  <thead>\n",
       "    <tr style=\"text-align: right;\">\n",
       "      <th></th>\n",
       "      <th>X</th>\n",
       "      <th>Y</th>\n",
       "    </tr>\n",
       "  </thead>\n",
       "  <tbody>\n",
       "    <tr>\n",
       "      <th>0</th>\n",
       "      <td>7</td>\n",
       "      <td>1.0</td>\n",
       "    </tr>\n",
       "    <tr>\n",
       "      <th>1</th>\n",
       "      <td>2</td>\n",
       "      <td>2.0</td>\n",
       "    </tr>\n",
       "    <tr>\n",
       "      <th>2</th>\n",
       "      <td>0</td>\n",
       "      <td>0.0</td>\n",
       "    </tr>\n",
       "    <tr>\n",
       "      <th>3</th>\n",
       "      <td>3</td>\n",
       "      <td>1.0</td>\n",
       "    </tr>\n",
       "    <tr>\n",
       "      <th>4</th>\n",
       "      <td>4</td>\n",
       "      <td>2.0</td>\n",
       "    </tr>\n",
       "    <tr>\n",
       "      <th>5</th>\n",
       "      <td>2</td>\n",
       "      <td>3.0</td>\n",
       "    </tr>\n",
       "    <tr>\n",
       "      <th>6</th>\n",
       "      <td>5</td>\n",
       "      <td>4.0</td>\n",
       "    </tr>\n",
       "    <tr>\n",
       "      <th>7</th>\n",
       "      <td>0</td>\n",
       "      <td>0.0</td>\n",
       "    </tr>\n",
       "    <tr>\n",
       "      <th>8</th>\n",
       "      <td>3</td>\n",
       "      <td>1.0</td>\n",
       "    </tr>\n",
       "    <tr>\n",
       "      <th>9</th>\n",
       "      <td>4</td>\n",
       "      <td>2.0</td>\n",
       "    </tr>\n",
       "  </tbody>\n",
       "</table>\n",
       "</div>"
      ],
      "text/plain": [
       "   X    Y\n",
       "0  7  1.0\n",
       "1  2  2.0\n",
       "2  0  0.0\n",
       "3  3  1.0\n",
       "4  4  2.0\n",
       "5  2  3.0\n",
       "6  5  4.0\n",
       "7  0  0.0\n",
       "8  3  1.0\n",
       "9  4  2.0"
      ]
     },
     "execution_count": 22,
     "metadata": {},
     "output_type": "execute_result"
    }
   ],
   "source": [
    "df"
   ]
  },
  {
   "cell_type": "code",
   "execution_count": null,
   "metadata": {},
   "outputs": [],
   "source": [
    "#2) Create a DatetimeIndex that contains each business day of 2015 and use it to index a\n",
    "Series of random numbers"
   ]
  },
  {
   "cell_type": "code",
   "execution_count": 32,
   "metadata": {},
   "outputs": [],
   "source": [
    "datetimeindex = pd.date_range(start='2015-01-01', end='2015-12-31', freq='B') \n",
    "s = pd.Series(np.random.rand(len(datetimeindex)), index=datetimeindex)"
   ]
  },
  {
   "cell_type": "code",
   "execution_count": 34,
   "metadata": {},
   "outputs": [
    {
     "data": {
      "text/plain": [
       "2015-01-01    0.281905\n",
       "2015-01-02    0.992225\n",
       "2015-01-05    0.920998\n",
       "2015-01-06    0.119062\n",
       "2015-01-07    0.361124\n",
       "2015-01-08    0.126003\n",
       "2015-01-09    0.578331\n",
       "2015-01-12    0.312219\n",
       "2015-01-13    0.540662\n",
       "2015-01-14    0.652034\n",
       "2015-01-15    0.382465\n",
       "2015-01-16    0.021147\n",
       "2015-01-19    0.871374\n",
       "2015-01-20    0.752991\n",
       "2015-01-21    0.115848\n",
       "2015-01-22    0.657033\n",
       "2015-01-23    0.385530\n",
       "2015-01-26    0.597150\n",
       "2015-01-27    0.289927\n",
       "2015-01-28    0.636339\n",
       "2015-01-29    0.904088\n",
       "2015-01-30    0.947599\n",
       "2015-02-02    0.066802\n",
       "2015-02-03    0.414204\n",
       "2015-02-04    0.812889\n",
       "2015-02-05    0.893723\n",
       "2015-02-06    0.482386\n",
       "2015-02-09    0.075935\n",
       "2015-02-10    0.635810\n",
       "2015-02-11    0.528697\n",
       "                ...   \n",
       "2015-11-20    0.984910\n",
       "2015-11-23    0.637310\n",
       "2015-11-24    0.633816\n",
       "2015-11-25    0.165346\n",
       "2015-11-26    0.343472\n",
       "2015-11-27    0.081367\n",
       "2015-11-30    0.713295\n",
       "2015-12-01    0.013210\n",
       "2015-12-02    0.411868\n",
       "2015-12-03    0.859239\n",
       "2015-12-04    0.192967\n",
       "2015-12-07    0.703131\n",
       "2015-12-08    0.951556\n",
       "2015-12-09    0.965996\n",
       "2015-12-10    0.850550\n",
       "2015-12-11    0.932170\n",
       "2015-12-14    0.922111\n",
       "2015-12-15    0.010576\n",
       "2015-12-16    0.060510\n",
       "2015-12-17    0.476379\n",
       "2015-12-18    0.934521\n",
       "2015-12-21    0.706974\n",
       "2015-12-22    0.971737\n",
       "2015-12-23    0.639490\n",
       "2015-12-24    0.399783\n",
       "2015-12-25    0.616040\n",
       "2015-12-28    0.233043\n",
       "2015-12-29    0.747135\n",
       "2015-12-30    0.573929\n",
       "2015-12-31    0.023361\n",
       "Freq: B, Length: 261, dtype: float64"
      ]
     },
     "execution_count": 34,
     "metadata": {},
     "output_type": "execute_result"
    }
   ],
   "source": [
    "s"
   ]
  },
  {
   "cell_type": "code",
   "execution_count": null,
   "metadata": {},
   "outputs": [],
   "source": [
    "#3) Find the sum of the values in s for every Wednesday"
   ]
  },
  {
   "cell_type": "code",
   "execution_count": 35,
   "metadata": {},
   "outputs": [
    {
     "data": {
      "text/plain": [
       "25.913025896024852"
      ]
     },
     "execution_count": 35,
     "metadata": {},
     "output_type": "execute_result"
    }
   ],
   "source": [
    "s[datetimeindex.weekday == 2].sum()"
   ]
  },
  {
   "cell_type": "code",
   "execution_count": null,
   "metadata": {},
   "outputs": [],
   "source": [
    "#4) Average For each calendar month"
   ]
  },
  {
   "cell_type": "code",
   "execution_count": 37,
   "metadata": {},
   "outputs": [
    {
     "data": {
      "text/plain": [
       "2015-01-31    0.520275\n",
       "2015-02-28    0.523796\n",
       "2015-03-31    0.383970\n",
       "2015-04-30    0.508220\n",
       "2015-05-31    0.480934\n",
       "2015-06-30    0.463378\n",
       "2015-07-31    0.463322\n",
       "2015-08-31    0.410836\n",
       "2015-09-30    0.507950\n",
       "2015-10-31    0.525743\n",
       "2015-11-30    0.514148\n",
       "2015-12-31    0.573751\n",
       "Freq: M, dtype: float64"
      ]
     },
     "execution_count": 37,
     "metadata": {},
     "output_type": "execute_result"
    }
   ],
   "source": [
    "s.resample('M').mean()"
   ]
  },
  {
   "cell_type": "code",
   "execution_count": null,
   "metadata": {},
   "outputs": [],
   "source": [
    "#5) For each group of four consecutive calendar months in s, find the date on which the highest value occurred."
   ]
  },
  {
   "cell_type": "code",
   "execution_count": 39,
   "metadata": {},
   "outputs": [
    {
     "name": "stderr",
     "output_type": "stream",
     "text": [
      "C:\\Users\\VijayaLavanya\\Anaconda3\\lib\\site-packages\\ipykernel_launcher.py:1: FutureWarning: pd.TimeGrouper is deprecated and will be removed; Please use pd.Grouper(freq=...)\n",
      "  \"\"\"Entry point for launching an IPython kernel.\n"
     ]
    },
    {
     "data": {
      "text/plain": [
       "2015-01-31    0.992225\n",
       "2015-05-31    0.946021\n",
       "2015-09-30    0.980784\n",
       "2016-01-31    0.996092\n",
       "dtype: float64"
      ]
     },
     "execution_count": 39,
     "metadata": {},
     "output_type": "execute_result"
    }
   ],
   "source": [
    "s.groupby(pd.TimeGrouper('4M')).max()"
   ]
  },
  {
   "cell_type": "code",
   "execution_count": null,
   "metadata": {},
   "outputs": [],
   "source": []
  }
 ],
 "metadata": {
  "kernelspec": {
   "display_name": "Python 3",
   "language": "python",
   "name": "python3"
  },
  "language_info": {
   "codemirror_mode": {
    "name": "ipython",
    "version": 3
   },
   "file_extension": ".py",
   "mimetype": "text/x-python",
   "name": "python",
   "nbconvert_exporter": "python",
   "pygments_lexer": "ipython3",
   "version": "3.6.4"
  }
 },
 "nbformat": 4,
 "nbformat_minor": 2
}
